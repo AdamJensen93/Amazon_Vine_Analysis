{
  "nbformat": 4,
  "nbformat_minor": 0,
  "metadata": {
    "colab": {
      "name": "Vine_Review_Analysis.ipynb",
      "provenance": [],
      "collapsed_sections": [],
      "authorship_tag": "ABX9TyMiOXlTynni0Q2PSDoKPgf+",
      "include_colab_link": true
    },
    "kernelspec": {
      "name": "python3",
      "display_name": "Python 3"
    },
    "language_info": {
      "name": "python"
    }
  },
  "cells": [
    {
      "cell_type": "markdown",
      "metadata": {
        "id": "view-in-github",
        "colab_type": "text"
      },
      "source": [
        "<a href=\"https://colab.research.google.com/github/AdamJensen93/Amazon_Vine_Analysis/blob/main/Vine_Review_Analysis.ipynb\" target=\"_parent\"><img src=\"https://colab.research.google.com/assets/colab-badge.svg\" alt=\"Open In Colab\"/></a>"
      ]
    },
    {
      "cell_type": "code",
      "execution_count": 1,
      "metadata": {
        "colab": {
          "base_uri": "https://localhost:8080/"
        },
        "id": "8_PVBg0ofwfP",
        "outputId": "caf8539f-a9de-4824-f460-81d89816c807"
      },
      "outputs": [
        {
          "output_type": "stream",
          "name": "stdout",
          "text": [
            "Get:1 https://cloud.r-project.org/bin/linux/ubuntu bionic-cran40/ InRelease [3,626 B]\n",
            "Ign:2 https://developer.download.nvidia.com/compute/cuda/repos/ubuntu1804/x86_64  InRelease\n",
            "Get:3 http://security.ubuntu.com/ubuntu bionic-security InRelease [88.7 kB]\n",
            "Ign:4 https://developer.download.nvidia.com/compute/machine-learning/repos/ubuntu1804/x86_64  InRelease\n",
            "Hit:5 http://archive.ubuntu.com/ubuntu bionic InRelease\n",
            "Get:6 https://developer.download.nvidia.com/compute/cuda/repos/ubuntu1804/x86_64  Release [696 B]\n",
            "Hit:7 https://developer.download.nvidia.com/compute/machine-learning/repos/ubuntu1804/x86_64  Release\n",
            "Get:8 https://developer.download.nvidia.com/compute/cuda/repos/ubuntu1804/x86_64  Release.gpg [836 B]\n",
            "Get:9 http://archive.ubuntu.com/ubuntu bionic-updates InRelease [88.7 kB]\n",
            "Get:10 http://ppa.launchpad.net/c2d4u.team/c2d4u4.0+/ubuntu bionic InRelease [15.9 kB]\n",
            "Hit:11 http://ppa.launchpad.net/cran/libgit2/ubuntu bionic InRelease\n",
            "Get:13 http://archive.ubuntu.com/ubuntu bionic-backports InRelease [74.6 kB]\n",
            "Get:14 https://developer.download.nvidia.com/compute/cuda/repos/ubuntu1804/x86_64  Packages [917 kB]\n",
            "Hit:15 http://ppa.launchpad.net/deadsnakes/ppa/ubuntu bionic InRelease\n",
            "Get:16 http://security.ubuntu.com/ubuntu bionic-security/universe amd64 Packages [1,468 kB]\n",
            "Get:17 http://ppa.launchpad.net/graphics-drivers/ppa/ubuntu bionic InRelease [21.3 kB]\n",
            "Get:18 http://ppa.launchpad.net/c2d4u.team/c2d4u4.0+/ubuntu bionic/main Sources [1,825 kB]\n",
            "Get:19 http://security.ubuntu.com/ubuntu bionic-security/restricted amd64 Packages [781 kB]\n",
            "Get:20 http://archive.ubuntu.com/ubuntu bionic-updates/restricted amd64 Packages [816 kB]\n",
            "Get:21 http://security.ubuntu.com/ubuntu bionic-security/main amd64 Packages [2,561 kB]\n",
            "Get:22 http://security.ubuntu.com/ubuntu bionic-security/multiverse amd64 Packages [21.1 kB]\n",
            "Get:23 http://archive.ubuntu.com/ubuntu bionic-updates/universe amd64 Packages [2,247 kB]\n",
            "Get:24 http://archive.ubuntu.com/ubuntu bionic-updates/multiverse amd64 Packages [29.0 kB]\n",
            "Get:25 http://archive.ubuntu.com/ubuntu bionic-updates/main amd64 Packages [3,002 kB]\n",
            "Get:26 http://ppa.launchpad.net/c2d4u.team/c2d4u4.0+/ubuntu bionic/main amd64 Packages [935 kB]\n",
            "Get:27 http://ppa.launchpad.net/graphics-drivers/ppa/ubuntu bionic/main amd64 Packages [42.8 kB]\n",
            "Fetched 14.9 MB in 8s (1,907 kB/s)\n",
            "Reading package lists... Done\n"
          ]
        }
      ],
      "source": [
        "import os\n",
        "# Find the latest version of spark 3.0  from http://www.apache.org/dist/spark/ and enter as the spark version\n",
        "# For example:\n",
        "# spark_version = 'spark-3.0.3'\n",
        "spark_version = 'spark-3.0.3'\n",
        "os.environ['SPARK_VERSION']=spark_version\n",
        "\n",
        "# Install Spark and Java\n",
        "!apt-get update\n",
        "!apt-get install openjdk-11-jdk-headless -qq > /dev/null\n",
        "!wget -q http://www.apache.org/dist/spark/$SPARK_VERSION/$SPARK_VERSION-bin-hadoop2.7.tgz\n",
        "!tar xf $SPARK_VERSION-bin-hadoop2.7.tgz\n",
        "!pip install -q findspark\n",
        "\n",
        "# Set Environment Variables\n",
        "import os\n",
        "os.environ[\"JAVA_HOME\"] = \"/usr/lib/jvm/java-11-openjdk-amd64\"\n",
        "os.environ[\"SPARK_HOME\"] = f\"/content/{spark_version}-bin-hadoop2.7\"\n",
        "\n",
        "# Start a SparkSession\n",
        "import findspark\n",
        "findspark.init()"
      ]
    },
    {
      "cell_type": "code",
      "source": [
        "# Start Spark session\n",
        "from pyspark.sql import SparkSession\n",
        "spark = SparkSession.builder.appName(\"Vine_Review\").getOrCreate()"
      ],
      "metadata": {
        "id": "ehFvCjtFf6P_"
      },
      "execution_count": 2,
      "outputs": []
    },
    {
      "cell_type": "code",
      "source": [
        "from pyspark import SparkFiles\n",
        "url = \"https://s3.amazonaws.com/amazon-reviews-pds/tsv/amazon_reviews_us_Camera_v1_00.tsv.gz\"\n",
        "spark.sparkContext.addFile(url)\n",
        "df = spark.read.option(\"encoding\", \"UTF-8\").csv(SparkFiles.get(\"\"), sep=\"\\t\", header=True, inferSchema=True)\n",
        "df.show()"
      ],
      "metadata": {
        "colab": {
          "base_uri": "https://localhost:8080/"
        },
        "id": "dZ93xDmAgB1t",
        "outputId": "9ff87c4f-abda-4957-9180-28fe766af904"
      },
      "execution_count": 3,
      "outputs": [
        {
          "output_type": "stream",
          "name": "stdout",
          "text": [
            "+-----------+-----------+--------------+----------+--------------+--------------------+----------------+-----------+-------------+-----------+----+-----------------+--------------------+--------------------+-----------+\n",
            "|marketplace|customer_id|     review_id|product_id|product_parent|       product_title|product_category|star_rating|helpful_votes|total_votes|vine|verified_purchase|     review_headline|         review_body|review_date|\n",
            "+-----------+-----------+--------------+----------+--------------+--------------------+----------------+-----------+-------------+-----------+----+-----------------+--------------------+--------------------+-----------+\n",
            "|         US|    2975964|R1NBG94582SJE2|B00I01JQJM|     860486164|GoPro Rechargeabl...|          Camera|          5|            0|          0|   N|                Y|          Five Stars|                  ok| 2015-08-31|\n",
            "|         US|   23526356|R273DCA6Y0H9V7|B00TCO0ZAA|     292641483|Professional 58mm...|          Camera|          5|            0|          0|   N|                Y|          Love it!!!|Perfect, even stu...| 2015-08-31|\n",
            "|         US|   52764145| RQVOXO7WUOFK6|B00B7733E0|      75825744|Spy Tec Z12 Motio...|          Camera|          2|            1|          1|   N|                Y|Another Motion De...|If the words, &#3...| 2015-08-31|\n",
            "|         US|   47348933|R1KWKSF21PO6HO|B006ZN4U34|     789352955|Celestron UpClose...|          Camera|          5|            0|          0|   N|                Y|Exactly what I wa...|Exactly what I wa...| 2015-08-31|\n",
            "|         US|   33680700|R38H3UO1J190GI|B00HUEBGMU|      19067902|Vidpro XM-L Wired...|          Camera|          5|            1|          1|   N|                Y|Good mic at a Goo...|I will look past ...| 2015-08-31|\n",
            "|         US|   30301059|R3NPIFKLR19NQA|B008MW6Y12|     597683407|NIX 8 inch Hi-Res...|          Camera|          3|            0|          0|   N|                Y|The controls are ...|The controls are ...| 2015-08-31|\n",
            "|         US|   28282645|R3MBE6UCH3435E|B00TE8XKIS|      35563334|Polaroid ZIP Mobi...|          Camera|          3|            8|          8|   N|                N|Fun toy for makin...|The printer came ...| 2015-08-31|\n",
            "|         US|     502818|R2E7A4FF0PVY5Q|B00ZKDUFBQ|     555190742|GeekPro 2.0-Inch ...|          Camera|          5|            0|          1|   N|                Y|          Five Stars|Great camera for ...| 2015-08-31|\n",
            "|         US|    1481233| R3R8JDQ2BF4NM|B010BZ7S2Q|     129544315|Sony HDR-AZ1VR Ac...|          Camera|          5|            0|          2|   N|                Y|          Five Stars|Product is very g...| 2015-08-31|\n",
            "|         US|   27885926|R1YND4BS823GN5|B00HRXSSRA|     708418657|ChiliPower DMW-BL...|          Camera|          1|            0|          0|   N|                Y|              Sucky.|Lasted a few hour...| 2015-08-31|\n",
            "|         US|    3183883|R2TZNSA18V7YF6|B005C95NM4|     246957815|Zeikos Deluxe Fla...|          Camera|          4|            1|          1|   N|                Y|Hand Hold Bracket...|I needed the flas...| 2015-08-31|\n",
            "|         US|   23208852|R22ZVRDPPXIDNL|B00LBIBYBE|     746593019|  GoPro Hero Filters|          Camera|          5|            0|          0|   N|                Y|          Five Stars|Use these all the...| 2015-08-31|\n",
            "|         US|   11438825|R1F4O6WOO2W461|B00X3HIM2U|     444991975|Neewer Meike MK-X...|          Camera|          3|            3|          3|   N|                Y|Can't grip the ba...|Same issue as oth...| 2015-08-31|\n",
            "|         US|   50399582| RT1KLS3QSJNUT|B00KDVQF8W|     304104050|LB Photography Ba...|          Camera|          5|            4|          4|   N|                Y|Super pleased wit...|Super pleased wit...| 2015-08-31|\n",
            "|         US|   36700181|R222VYJL5K5IRS|B00GUZEZL4|     472875794|Waterproof Camera...|          Camera|          5|            0|          0|   N|                Y|    Excellent value!|These float wrist...| 2015-08-31|\n",
            "|         US|   47818374|R31LUR7M4PQOLU|B00FB1TBKS|     710827451|Ecolink Z-Wave PI...|          Camera|          5|            0|          0|   N|                Y|       great product|very good on batt...| 2015-08-31|\n",
            "|         US|   35272750|R1OD3T3Q042LUQ|B00GVMLPT6|     269896170|FotoTech Male to ...|          Camera|          2|            0|          0|   N|                Y|           Two Stars|im not happy, the...| 2015-08-31|\n",
            "|         US|   11736306|R2QT68OZTT2YKE|B00L8827BI|     145946775|Nikon D3200 Ultim...|          Camera|          5|            0|          0|   N|                Y|          Five Stars|It is a very good...| 2015-08-31|\n",
            "|         US|   52377008| RMFQF59FG3TD1|B00SIM78R0|     972011051|D-Link Wireless D...|          Camera|          4|            0|          0|   N|                Y|Nice camera, not ...|Nice camera for t...| 2015-08-31|\n",
            "|         US|    6465510|R1QNYFW6G31R5T|B00EDCZKJ2|     258297575|ZINK Phone Photo ...|          Camera|          1|            1|          3|   N|                N|        Never Agian.|If I could leave ...| 2015-08-31|\n",
            "+-----------+-----------+--------------+----------+--------------+--------------------+----------------+-----------+-------------+-----------+----+-----------------+--------------------+--------------------+-----------+\n",
            "only showing top 20 rows\n",
            "\n"
          ]
        }
      ]
    },
    {
      "cell_type": "code",
      "source": [
        "# Create the vine_table DataFrame\n",
        "vine_df = df.select([\"review_id\", \"star_rating\", \"helpful_votes\", \"total_votes\", \"vine\", \"verified_purchase\"])\n",
        "\n",
        "vine_df.show(10)"
      ],
      "metadata": {
        "colab": {
          "base_uri": "https://localhost:8080/"
        },
        "id": "4Cq6XtZegFUU",
        "outputId": "1af54c76-4803-407e-be9e-b8a02a917d70"
      },
      "execution_count": 4,
      "outputs": [
        {
          "output_type": "stream",
          "name": "stdout",
          "text": [
            "+--------------+-----------+-------------+-----------+----+-----------------+\n",
            "|     review_id|star_rating|helpful_votes|total_votes|vine|verified_purchase|\n",
            "+--------------+-----------+-------------+-----------+----+-----------------+\n",
            "|R1NBG94582SJE2|          5|            0|          0|   N|                Y|\n",
            "|R273DCA6Y0H9V7|          5|            0|          0|   N|                Y|\n",
            "| RQVOXO7WUOFK6|          2|            1|          1|   N|                Y|\n",
            "|R1KWKSF21PO6HO|          5|            0|          0|   N|                Y|\n",
            "|R38H3UO1J190GI|          5|            1|          1|   N|                Y|\n",
            "|R3NPIFKLR19NQA|          3|            0|          0|   N|                Y|\n",
            "|R3MBE6UCH3435E|          3|            8|          8|   N|                N|\n",
            "|R2E7A4FF0PVY5Q|          5|            0|          1|   N|                Y|\n",
            "| R3R8JDQ2BF4NM|          5|            0|          2|   N|                Y|\n",
            "|R1YND4BS823GN5|          1|            0|          0|   N|                Y|\n",
            "+--------------+-----------+-------------+-----------+----+-----------------+\n",
            "only showing top 10 rows\n",
            "\n"
          ]
        }
      ]
    },
    {
      "cell_type": "code",
      "source": [
        "# Create filtered DataFrame\n",
        "vine_filtered = vine_df.filter('total_votes>=20')\n",
        "\n",
        "vine_filtered.show(10)"
      ],
      "metadata": {
        "colab": {
          "base_uri": "https://localhost:8080/"
        },
        "id": "FR6MGe8GgONT",
        "outputId": "103bac01-9bff-4a2a-eb79-f637ce69803f"
      },
      "execution_count": 6,
      "outputs": [
        {
          "output_type": "stream",
          "name": "stdout",
          "text": [
            "+--------------+-----------+-------------+-----------+----+-----------------+\n",
            "|     review_id|star_rating|helpful_votes|total_votes|vine|verified_purchase|\n",
            "+--------------+-----------+-------------+-----------+----+-----------------+\n",
            "|R3FJ319XA6ZAUQ|          2|           21|         25|   N|                Y|\n",
            "| R6HRF25HUMIIE|          5|           24|         24|   N|                Y|\n",
            "|R2CTAK3APOFKZU|          5|           37|         38|   N|                N|\n",
            "|R1WQZB0CAEPQBU|          2|           85|        128|   N|                N|\n",
            "| RHZDSA48HVRVK|          5|           49|         86|   N|                N|\n",
            "|R190J2PDOZ5GVK|          3|           36|         51|   N|                Y|\n",
            "|R1WZSWWOTN58OP|          5|           73|         77|   N|                Y|\n",
            "|R3EM8C9CKA6GPK|          2|           41|        115|   N|                N|\n",
            "|R29THVJFO35FZA|          5|           48|         50|   N|                Y|\n",
            "|R3V8FKXIHBLWEL|          5|           91|        108|   N|                Y|\n",
            "+--------------+-----------+-------------+-----------+----+-----------------+\n",
            "only showing top 10 rows\n",
            "\n"
          ]
        }
      ]
    },
    {
      "cell_type": "code",
      "source": [
        "# Create second filtered DataFrame\n",
        "vine_votes = vine_filtered.filter((vine_filtered.helpful_votes / vine_filtered.total_votes) >= 0.5)\n",
        "\n",
        "vine_votes.show(10)"
      ],
      "metadata": {
        "colab": {
          "base_uri": "https://localhost:8080/"
        },
        "id": "_fxi6dHrgRWL",
        "outputId": "5ac24273-40a2-432c-9c43-76d7a169896b"
      },
      "execution_count": 8,
      "outputs": [
        {
          "output_type": "stream",
          "name": "stdout",
          "text": [
            "+--------------+-----------+-------------+-----------+----+-----------------+\n",
            "|     review_id|star_rating|helpful_votes|total_votes|vine|verified_purchase|\n",
            "+--------------+-----------+-------------+-----------+----+-----------------+\n",
            "|R3FJ319XA6ZAUQ|          2|           21|         25|   N|                Y|\n",
            "| R6HRF25HUMIIE|          5|           24|         24|   N|                Y|\n",
            "|R2CTAK3APOFKZU|          5|           37|         38|   N|                N|\n",
            "|R1WQZB0CAEPQBU|          2|           85|        128|   N|                N|\n",
            "| RHZDSA48HVRVK|          5|           49|         86|   N|                N|\n",
            "|R190J2PDOZ5GVK|          3|           36|         51|   N|                Y|\n",
            "|R1WZSWWOTN58OP|          5|           73|         77|   N|                Y|\n",
            "|R29THVJFO35FZA|          5|           48|         50|   N|                Y|\n",
            "|R3V8FKXIHBLWEL|          5|           91|        108|   N|                Y|\n",
            "|R3JIIPQ8F0P7QS|          4|           22|         23|   N|                Y|\n",
            "+--------------+-----------+-------------+-----------+----+-----------------+\n",
            "only showing top 10 rows\n",
            "\n"
          ]
        }
      ]
    },
    {
      "cell_type": "code",
      "source": [
        "# Create DataFrame with all the rows where a review was written as part of the Vine program (paid)\n",
        "vine_paid = vine_votes.filter(vine_votes['vine'] == 'Y')\n",
        "\n",
        "vine_paid.show(10)"
      ],
      "metadata": {
        "colab": {
          "base_uri": "https://localhost:8080/"
        },
        "id": "LtFMKPsCgmHb",
        "outputId": "22c1fdca-9f5c-4a78-be8e-9b75299a648c"
      },
      "execution_count": 9,
      "outputs": [
        {
          "output_type": "stream",
          "name": "stdout",
          "text": [
            "+--------------+-----------+-------------+-----------+----+-----------------+\n",
            "|     review_id|star_rating|helpful_votes|total_votes|vine|verified_purchase|\n",
            "+--------------+-----------+-------------+-----------+----+-----------------+\n",
            "|R37L6YZDX0P3J9|          1|           28|         35|   Y|                N|\n",
            "|R2JT4XRQO2KASL|          5|           38|         41|   Y|                N|\n",
            "|R10XRAOBFFSTL2|          5|           44|         47|   Y|                N|\n",
            "| R1X8F3R1K1SF5|          2|           30|         31|   Y|                N|\n",
            "|R326QV66CKBB43|          4|          127|        139|   Y|                N|\n",
            "| RGXLFTR31J561|          5|           29|         34|   Y|                N|\n",
            "|R2ZS3WCJYUDQH0|          3|          101|        115|   Y|                N|\n",
            "|R31771VBPRDVJS|          4|           75|         83|   Y|                N|\n",
            "| R8O8KM73GO190|          5|           21|         28|   Y|                N|\n",
            "| RPU1GURA1NOT0|          5|           33|         35|   Y|                N|\n",
            "+--------------+-----------+-------------+-----------+----+-----------------+\n",
            "only showing top 10 rows\n",
            "\n"
          ]
        }
      ]
    },
    {
      "cell_type": "code",
      "source": [
        "# Create DataFrame with all the rows where the review was not part of the Vine program (unpaid)\n",
        "vine_unpaid = vine_votes.filter(vine_votes['vine'] == 'N')\n",
        "\n",
        "vine_unpaid.show(10)"
      ],
      "metadata": {
        "colab": {
          "base_uri": "https://localhost:8080/"
        },
        "id": "U4V10rtSgx31",
        "outputId": "d2e0dd18-a426-4725-d3b7-5e40f33871d0"
      },
      "execution_count": 10,
      "outputs": [
        {
          "output_type": "stream",
          "name": "stdout",
          "text": [
            "+--------------+-----------+-------------+-----------+----+-----------------+\n",
            "|     review_id|star_rating|helpful_votes|total_votes|vine|verified_purchase|\n",
            "+--------------+-----------+-------------+-----------+----+-----------------+\n",
            "|R3FJ319XA6ZAUQ|          2|           21|         25|   N|                Y|\n",
            "| R6HRF25HUMIIE|          5|           24|         24|   N|                Y|\n",
            "|R2CTAK3APOFKZU|          5|           37|         38|   N|                N|\n",
            "|R1WQZB0CAEPQBU|          2|           85|        128|   N|                N|\n",
            "| RHZDSA48HVRVK|          5|           49|         86|   N|                N|\n",
            "|R190J2PDOZ5GVK|          3|           36|         51|   N|                Y|\n",
            "|R1WZSWWOTN58OP|          5|           73|         77|   N|                Y|\n",
            "|R29THVJFO35FZA|          5|           48|         50|   N|                Y|\n",
            "|R3V8FKXIHBLWEL|          5|           91|        108|   N|                Y|\n",
            "|R3JIIPQ8F0P7QS|          4|           22|         23|   N|                Y|\n",
            "+--------------+-----------+-------------+-----------+----+-----------------+\n",
            "only showing top 10 rows\n",
            "\n"
          ]
        }
      ]
    },
    {
      "cell_type": "code",
      "source": [
        "# Total number of reviews (Paid)\n",
        "total_paid_reviews = vine_paid.count()\n",
        "\n",
        "total_paid_reviews"
      ],
      "metadata": {
        "colab": {
          "base_uri": "https://localhost:8080/"
        },
        "id": "vl7LA9YKg0E0",
        "outputId": "25236e8a-02f7-4656-e279-6f0b856a7139"
      },
      "execution_count": 11,
      "outputs": [
        {
          "output_type": "execute_result",
          "data": {
            "text/plain": [
              "607"
            ]
          },
          "metadata": {},
          "execution_count": 11
        }
      ]
    },
    {
      "cell_type": "code",
      "source": [
        "# Total number of reviews (Unpaid)\n",
        "total_unpaid_reviews = vine_unpaid.count()\n",
        "\n",
        "total_unpaid_reviews"
      ],
      "metadata": {
        "colab": {
          "base_uri": "https://localhost:8080/"
        },
        "id": "OwtAof8Dg2fs",
        "outputId": "d8ff46c7-df3e-4d04-db23-2ba5a58d65f3"
      },
      "execution_count": 12,
      "outputs": [
        {
          "output_type": "execute_result",
          "data": {
            "text/plain": [
              "50522"
            ]
          },
          "metadata": {},
          "execution_count": 12
        }
      ]
    },
    {
      "cell_type": "code",
      "source": [
        "# Total number of 5-star reviews (Paid)\n",
        "five_star_paid = vine_paid.filter(\"star_rating=5\").count()\n",
        "\n",
        "five_star_paid"
      ],
      "metadata": {
        "colab": {
          "base_uri": "https://localhost:8080/"
        },
        "id": "h_mKuo3Rg4B0",
        "outputId": "705fa6aa-2ac7-47a9-e465-a840b2a047ed"
      },
      "execution_count": 13,
      "outputs": [
        {
          "output_type": "execute_result",
          "data": {
            "text/plain": [
              "257"
            ]
          },
          "metadata": {},
          "execution_count": 13
        }
      ]
    },
    {
      "cell_type": "code",
      "source": [
        "# Total number of 5-star reviews (Unpaid)\n",
        "five_star_unpaid = vine_unpaid.filter(\"star_rating=5\").count()\n",
        "\n",
        "five_star_unpaid"
      ],
      "metadata": {
        "colab": {
          "base_uri": "https://localhost:8080/"
        },
        "id": "WFcs3KvphDDU",
        "outputId": "2e326bf2-835a-4e51-fb54-bb7efbf02a9a"
      },
      "execution_count": 14,
      "outputs": [
        {
          "output_type": "execute_result",
          "data": {
            "text/plain": [
              "25220"
            ]
          },
          "metadata": {},
          "execution_count": 14
        }
      ]
    },
    {
      "cell_type": "code",
      "source": [
        "# Percentage of 5-star reviews (Paid)\n",
        "five_star_paid_percent = (five_star_paid / total_paid_reviews) *100\n",
        "\n",
        "five_star_paid_percent"
      ],
      "metadata": {
        "colab": {
          "base_uri": "https://localhost:8080/"
        },
        "id": "_e07suHFhEzM",
        "outputId": "56c10a0f-6154-46f8-b445-5833ac5fcaca"
      },
      "execution_count": 15,
      "outputs": [
        {
          "output_type": "execute_result",
          "data": {
            "text/plain": [
              "42.33937397034596"
            ]
          },
          "metadata": {},
          "execution_count": 15
        }
      ]
    },
    {
      "cell_type": "code",
      "source": [
        "# Percentage of 5-star reviews (Unpaid)\n",
        "five_star_unpaid_percent = (five_star_unpaid / total_unpaid_reviews) *100\n",
        "\n",
        "five_star_unpaid_percent"
      ],
      "metadata": {
        "colab": {
          "base_uri": "https://localhost:8080/"
        },
        "id": "Pbfi6E5WhGvd",
        "outputId": "927d1642-636b-4faf-da24-332c8500f3a3"
      },
      "execution_count": 16,
      "outputs": [
        {
          "output_type": "execute_result",
          "data": {
            "text/plain": [
              "49.91884723486798"
            ]
          },
          "metadata": {},
          "execution_count": 16
        }
      ]
    },
    {
      "cell_type": "code",
      "source": [
        ""
      ],
      "metadata": {
        "id": "dJz6ky2NhJDU"
      },
      "execution_count": null,
      "outputs": []
    }
  ]
}